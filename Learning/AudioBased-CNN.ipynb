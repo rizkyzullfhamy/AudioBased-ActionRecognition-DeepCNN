{
 "cells": [
  {
   "cell_type": "code",
   "execution_count": 11,
   "id": "external-oasis",
   "metadata": {},
   "outputs": [],
   "source": [
    "#Import library yang dibutuhkan dalam sistem\n",
    "import numpy as np\n",
    "import tensorflow as tf\n",
    "from tensorflow.keras.optimizers import RMSprop\n",
    "from tensorflow.keras.preprocessing.image import ImageDataGenerator\n",
    "from tensorflow.keras.preprocessing import image\n",
    "from keras.applications.imagenet_utils import decode_predictions\n",
    "import librosa\n",
    "\n",
    "from keras.models import Sequential\n",
    "from keras.layers import Activation, Dense, Dropout, Conv2D, MaxPooling2D, ZeroPadding2D, Flatten\n",
    "from keras.preprocessing.image import ImageDataGenerator\n",
    "import zipfile,os, shutil\n",
    "from distutils.dir_util import copy_tree\n",
    "\n",
    "import librosa.display\n",
    "import matplotlib.pyplot as plt\n",
    "import numpy as np\n",
    "import os"
   ]
  },
  {
   "cell_type": "code",
   "execution_count": 13,
   "id": "latter-shark",
   "metadata": {},
   "outputs": [],
   "source": [
    "#Inisial folder untuk dataset \n",
    "base_dir = \"C:/Users/LENOVO/Documents/RizkyZullFhamy/TA/Dataset/Image/\"\n",
    "train_dir = os.path.join(base_dir, 'd_train')\n",
    "validation_dir = os.path.join(base_dir, 'd_val')"
   ]
  },
  {
   "cell_type": "code",
   "execution_count": 14,
   "id": "elementary-hungary",
   "metadata": {},
   "outputs": [],
   "source": [
    "# Membuat direktori data training \n",
    "train_askhelping_dir     = os.path.join(train_dir, 'AskHelping')\n",
    "train_brokenglass_dir    = os.path.join(train_dir, 'BrokenGlass')\n",
    "train_cooking_dir        = os.path.join(train_dir, 'Cooking')\n",
    "train_crying_dir         = os.path.join(train_dir, 'Crying')\n",
    "train_eating_dir         = os.path.join(train_dir, 'Eating')\n",
    "train_laughing_dir       = os.path.join(train_dir, 'Laughing')\n",
    "train_listenmusic_dir    = os.path.join(train_dir, 'ListenMusic')\n",
    "train_screamofpain_dir   = os.path.join(train_dir, 'ScreamofPain')\n",
    "train_washingclothes_dir = os.path.join(train_dir, 'WashingClothes')\n",
    "train_washinghand_dir    = os.path.join(train_dir, 'WashingHand')\n",
    "train_watchingtv_dir     = os.path.join(train_dir, 'WatchingTV')"
   ]
  },
  {
   "cell_type": "code",
   "execution_count": 15,
   "id": "appreciated-conversion",
   "metadata": {},
   "outputs": [],
   "source": [
    "# Membuat direktori data validasi\n",
    "validation_askhelping_dir     = os.path.join(validation_dir, 'AskHelping')\n",
    "validation_brokenglass_dir    = os.path.join(validation_dir, 'BrokenGlass')\n",
    "validation_cooking_dir        = os.path.join(validation_dir, 'Cooking')\n",
    "validation_crying_dir         = os.path.join(validation_dir, 'Crying')\n",
    "validation_eating_dir         = os.path.join(validation_dir, 'Eating')\n",
    "validation_laughing_dir       = os.path.join(validation_dir, 'Laughing')\n",
    "validation_listenmusic_dir    = os.path.join(validation_dir, 'ListenMusic')\n",
    "validation_screamofpain_dir   = os.path.join(validation_dir, 'ScreamofPain')\n",
    "validation_washingclothes_dir = os.path.join(validation_dir, 'WashingClothes')\n",
    "validation_washinghand_dir    = os.path.join(validation_dir, 'WashingHand')\n",
    "validation_watchingtv_dir     = os.path.join(validation_dir, 'WatchingTV')"
   ]
  },
  {
   "cell_type": "code",
   "execution_count": 16,
   "id": "specified-fitting",
   "metadata": {},
   "outputs": [],
   "source": [
    "train_datagen = ImageDataGenerator(\n",
    "    rescale=1./255,\n",
    "    rotation_range=0,\n",
    "    horizontal_flip=False,\n",
    "    vertical_flip=False,\n",
    "    shear_range=0.1,\n",
    "    fill_mode='nearest')\n",
    "\n",
    "test_datagen = ImageDataGenerator(\n",
    "    rescale=1./255,\n",
    "    rotation_range=0,\n",
    "    horizontal_flip=False,\n",
    "    vertical_flip=False,\n",
    "    shear_range=0.1,\n",
    "    fill_mode='nearest')"
   ]
  },
  {
   "cell_type": "code",
   "execution_count": 17,
   "id": "protected-lending",
   "metadata": {},
   "outputs": [
    {
     "name": "stdout",
     "output_type": "stream",
     "text": [
      "Found 0 images belonging to 11 classes.\n",
      "Found 0 images belonging to 11 classes.\n"
     ]
    }
   ],
   "source": [
    "train_generator = train_datagen.flow_from_directory(\n",
    "    train_dir,\n",
    "    target_size=(250,250),\n",
    "    batch_size=32,\n",
    "    class_mode='categorical')\n",
    "\n",
    "validation_generator = test_datagen.flow_from_directory(\n",
    "    validation_dir,\n",
    "    target_size=(250,250),\n",
    "    batch_size=32,\n",
    "    class_mode='categorical')"
   ]
  },
  {
   "cell_type": "code",
   "execution_count": 18,
   "id": "suburban-replica",
   "metadata": {},
   "outputs": [],
   "source": [
    "# Membuat Model CNN method\n",
    "model = Sequential()\n",
    "\n",
    "model.add(Conv2D(32,(5,5),activation='relu', input_shape=(250,250,3)))\n",
    "model.add(MaxPooling2D(pool_size=(2,2), strides=2))\n",
    "\n",
    "model.add(Conv2D(64, (4,4), activation='relu'))\n",
    "model.add(MaxPooling2D(pool_size=(2,2), strides=2))\n",
    "\n",
    "model.add(Conv2D(256, (1,1), activation='relu'))\n",
    "model.add(Conv2D(256, (4,4), activation='relu'))\n",
    "model.add(MaxPooling2D(pool_size=(2,2), strides=2))\n",
    "\n",
    "model.add(Conv2D(256, (2,2),activation='relu'))\n",
    "\n",
    "model.add(Flatten())\n",
    "\n",
    "model.add(Dense(256))\n",
    "model.add(Activation('relu'))\n",
    "model.add(Dropout(0.5))\n",
    "\n",
    "model.add(Dense(256))\n",
    "model.add(Activation('relu'))\n",
    "model.add(Dropout(0.5))\n",
    "\n",
    "model.add(Dense(256))\n",
    "model.add(Activation('relu'))\n",
    "model.add(Dropout(0.5))\n",
    "\n",
    "model.add(Dense(11))\n",
    "model.add(Activation('softmax'))"
   ]
  },
  {
   "cell_type": "code",
   "execution_count": 24,
   "id": "second-intersection",
   "metadata": {},
   "outputs": [],
   "source": [
    "#kompilasi model yang sebelumnya dibuat\n",
    "model.compile(loss='categorical_crossentropy', metrics=['accuracy'], optimizer='adam')"
   ]
  },
  {
   "cell_type": "code",
   "execution_count": null,
   "id": "thousand-paint",
   "metadata": {},
   "outputs": [],
   "source": [
    "#Display model architecture summary\n",
    "model.summary()\n",
    "\n",
    "#calculate pre-training accuracy\n",
    "score = model.evaluate(validation_generator, verbose=0)\n",
    "accuracy = 100*score[1]\n",
    "print(\"Pre-training accuracy: %.4f%%\" % accuracy)\n"
   ]
  },
  {
   "cell_type": "code",
   "execution_count": null,
   "id": "excessive-lancaster",
   "metadata": {},
   "outputs": [],
   "source": [
    "# Training model \n",
    "from keras.callbacks import ModelCheckpoint\n",
    "from datetime import datetime\n",
    "\n",
    "num_epoch = 30\n",
    "num_batch_size = 30\n",
    "\n",
    "checkpointer = ModelCheckpoint(filepath='C:/Users/LENOVO/Documents/RizkyZullFhamy/TA/Model/AudioBased_ModelCNN.h5', verbose= 1, save_best_only=True)\n",
    "start = datetime.now()\n",
    "\n",
    "model.fit(\n",
    "    train_generator, \n",
    "    steps_per_epoch= num_batch_size,\n",
    "    epochs= num_epoch,\n",
    "    validation_data= validation_generator,\n",
    "    callbacks= [checkpointer],\n",
    "    validation_steps= num_batch_size,\n",
    "    verbose=1)\n",
    "\n",
    "duration = datetime.now() - start\n",
    "print(\"Traning complete in time : \", duration)"
   ]
  },
  {
   "cell_type": "code",
   "execution_count": null,
   "id": "backed-musician",
   "metadata": {},
   "outputs": [],
   "source": [
    "#evaluate model on the training  and testing set\n",
    "score = model.evaluate(train_generator, verbose=0)\n",
    "print(\"Training Accuracy : \", score[1])\n",
    "\n",
    "score = model.evaluate(validation_generator, verbose=0)\n",
    "print(\"Testing Accuracy : \", score[1])\n"
   ]
  },
  {
   "cell_type": "code",
   "execution_count": null,
   "id": "selective-demand",
   "metadata": {},
   "outputs": [],
   "source": [
    "# saved model after training and testing dataset \n",
    "\n",
    "model.save(\"C:/Users/LENOVO/Documents/RizkyZullFhamy/TA/Model/Out_AudioBased_ModelCNN.h5\")\n"
   ]
  }
 ],
 "metadata": {
  "kernelspec": {
   "display_name": "Python 3",
   "language": "python",
   "name": "python3"
  },
  "language_info": {
   "codemirror_mode": {
    "name": "ipython",
    "version": 3
   },
   "file_extension": ".py",
   "mimetype": "text/x-python",
   "name": "python",
   "nbconvert_exporter": "python",
   "pygments_lexer": "ipython3",
   "version": "3.7.4"
  }
 },
 "nbformat": 4,
 "nbformat_minor": 5
}
